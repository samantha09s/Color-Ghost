import random  # Importamos la librería random para seleccionar un color aleatorio

class Ghost:
    """
    Clase Ghost que representa un fantasma con un color aleatorio al crearse.
    Los colores posibles son: "white", "yellow", "purple" y "red".
    """

    def __init__(self):
        # Lista de colores disponibles
        self.colores_disponibles = ["white", "yellow", "purple", "red"]

        # Asignar un color aleatorio al fantasma
        self.color = random.choice(self.colores_disponibles)

    def __str__(self):
        # Representación en cadena del objeto Ghost
        return f"El color del fantasma es: {self.color}"

ghost = Ghost()
print(f"El color del fantasma es: {ghost.color}.")  # Muestra el color del fantasma en pantalla

class Ghost:
    # Clase Ghost que representa un fantasma con un color aleatorio al crearse
    # El color se selecciona de una lista predefinida de colores disponibles
    def __init__(self):
        self.colores_disponibles = ["white", "yellow", "purple", "red"]

        # Selecciona un color aleatorio de la lista de colores disponibles
        self.color = random.choice(self.colores_disponibles)

    def __str__(self):
        return f"El color del fantasma es {self.color}."

# Crear una instancia de la clase Ghost
ghost = Ghost()

# Imprimir la lista de fantasmas
print(ghost)
