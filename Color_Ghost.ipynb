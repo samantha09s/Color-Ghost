{
  "nbformat": 4,
  "nbformat_minor": 0,
  "metadata": {
    "colab": {
      "provenance": [],
      "authorship_tag": "ABX9TyMl1lQvS3FXjWaKp/6IcosW",
      "include_colab_link": true
    },
    "kernelspec": {
      "name": "python3",
      "display_name": "Python 3"
    },
    "language_info": {
      "name": "python"
    }
  },
  "cells": [
    {
      "cell_type": "markdown",
      "metadata": {
        "id": "view-in-github",
        "colab_type": "text"
      },
      "source": [
        "<a href=\"https://colab.research.google.com/github/samantha09s/Color-Ghost/blob/main/Color_Ghost.ipynb\" target=\"_parent\"><img src=\"https://colab.research.google.com/assets/colab-badge.svg\" alt=\"Open In Colab\"/></a>"
      ]
    },
    {
      "cell_type": "markdown",
      "source": [
        "# **Practical Tasks: Generador de Fantasmas con Colores Aleatorios**\n",
        "\n",
        "## **Introducción**\n",
        "Este proyecto implementa una clase en Python llamada `Ghost`, que crea objetos de tipo \"fantasma\" con un color aleatorio. Es un ejercicio útil para aprender sobre programación orientada a objetos (OOP) en Python y el uso de la librería `random`.\n",
        "\n",
        "## **Problema**\n",
        "En la programación orientada a objetos, a menudo necesitamos crear instancias de clases con atributos generados de manera aleatoria. En este caso, queremos que cada fantasma tenga un color aleatorio entre una lista predefinida de opciones: `white`, `yellow`, `purple` o `red`.\n",
        "\n",
        "## **Solución**\n",
        "Se crea la clase `Ghost` con las siguientes características:\n",
        "- Un constructor `__init__` que asigna un color aleatorio al atributo `color`.\n",
        "- Uso de la función `random.choice()` para seleccionar un color aleatorio de una lista.\n",
        "- Un método `__str__` para representar el objeto en forma de texto."
      ],
      "metadata": {
        "id": "ubvYP2N9xc8M"
      }
    },
    {
      "cell_type": "code",
      "source": [
        "import random  # Importamos la librería random para seleccionar un color aleatorio"
      ],
      "metadata": {
        "id": "t_2_1biusoob"
      },
      "execution_count": null,
      "outputs": []
    },
    {
      "cell_type": "markdown",
      "source": [
        "## 📌 **Opción 1**"
      ],
      "metadata": {
        "id": "v7dWaG-dyYY8"
      }
    },
    {
      "cell_type": "code",
      "source": [
        "class Ghost:\n",
        "    \"\"\"\n",
        "    Clase Ghost que representa un fantasma con un color aleatorio al crearse.\n",
        "    Los colores posibles son: \"white\", \"yellow\", \"purple\" y \"red\".\n",
        "    \"\"\"\n",
        "\n",
        "    def __init__(self):\n",
        "        # Lista de colores disponibles\n",
        "        self.colores_disponibles = [\"white\", \"yellow\", \"purple\", \"red\"]\n",
        "\n",
        "        # Asignar un color aleatorio al fantasma\n",
        "        self.color = random.choice(self.colores_disponibles)\n",
        "\n",
        "    def __str__(self):\n",
        "        # Representación en cadena del objeto Ghost\n",
        "        return f\"El color del fantasma es: {self.color}\"\n",
        "\n",
        "ghost = Ghost()\n",
        "print(f\"El color del fantasma es: {ghost.color}.\")  # Muestra el color del fantasma en pantalla"
      ],
      "metadata": {
        "colab": {
          "base_uri": "https://localhost:8080/"
        },
        "id": "txvdTIMFrOHi",
        "outputId": "c8392fc5-5d4a-4b0c-ebd0-4bf029e40ae9"
      },
      "execution_count": null,
      "outputs": [
        {
          "output_type": "stream",
          "name": "stdout",
          "text": [
            "El color del fantasma es: red.\n"
          ]
        }
      ]
    },
    {
      "cell_type": "markdown",
      "source": [
        "## 📌 **Opción 2**"
      ],
      "metadata": {
        "id": "W_Y4GkKrx2st"
      }
    },
    {
      "cell_type": "code",
      "source": [
        "class Ghost:\n",
        "    # Clase Ghost que representa un fantasma con un color aleatorio al crearse\n",
        "    # El color se selecciona de una lista predefinida de colores disponibles\n",
        "    def __init__(self):\n",
        "        self.colores_disponibles = [\"white\", \"yellow\", \"purple\", \"red\"]\n",
        "\n",
        "        # Selecciona un color aleatorio de la lista de colores disponibles\n",
        "        self.color = random.choice(self.colores_disponibles)\n",
        "\n",
        "    def __str__(self):\n",
        "        return f\"El color del fantasma es {self.color}.\"\n",
        "\n",
        "# Crear una instancia de la clase Ghost\n",
        "ghost = Ghost()\n",
        "\n",
        "# Imprimir la lista de fantasmas\n",
        "print(ghost)"
      ],
      "metadata": {
        "colab": {
          "base_uri": "https://localhost:8080/"
        },
        "id": "chfBiUOtnXD7",
        "outputId": "447a4fd7-6878-4b43-b413-e02f7d65d2ed"
      },
      "execution_count": null,
      "outputs": [
        {
          "output_type": "stream",
          "name": "stdout",
          "text": [
            "El color del fantasma es yellow.\n"
          ]
        }
      ]
    },
    {
      "cell_type": "markdown",
      "source": [
        "## **Diferencias**\n",
        "1. **Estructura de la impresión:**\n",
        "   - La primera versión usa `print(f\"El color del fantasma es: {ghost.color}.\")`, donde se accede directamente al atributo `color`.\n",
        "   - La segunda versión usa `print(ghost)`, aprovechando el método `__str__` para generar la salida.\n",
        "\n",
        "2. **Definición de la lista de colores:**\n",
        "   - En la primera versión, la lista `colores_disponibles` se declara como un atributo dentro de `__init__`.\n",
        "   - En la segunda versión, también se declara dentro de `__init__`, pero no se hace referencia a ella posteriormente, ya que solo se usa para la selección del color.\n",
        "\n",
        "3. **Formato del `__str__`**\n",
        "   - En la primera versión, `__str__` devuelve `El color del fantasma es: {self.color}`.\n",
        "   - En la segunda versión, devuelve `El color del fantasma es {self.color}.`, sin los dos puntos, lo cual es una diferencia menor pero notable.\n"
      ],
      "metadata": {
        "id": "tu0Iherayc9m"
      }
    },
    {
      "cell_type": "markdown",
      "source": [
        "## **Salida Esperada**\n",
        "Cada vez que ejecutemos el código, obtendremos un color diferente de forma aleatoria. Por ejemplo:\n",
        "```\n",
        "El color del fantasma es yellow.\n",
        "```\n",
        "O bien:\n",
        "```\n",
        "El color del fantasma es red.\n",
        "```\n",
        "\n",
        "## **Conclusión**\n",
        "Este proyecto nos ayuda a comprender cómo funcionan las clases en Python y el uso de atributos aleatorios. Además, refuerza la importancia de los métodos mágicos (`__init__`, `__str__`) en OOP. También nos muestra cómo diferentes enfoques pueden llevar a la misma funcionalidad con pequeñas variaciones.\n",
        "\n",
        "📌 **Link del problema:** [Color Ghost en CodeWars](https://www.codewars.com/kata/color-ghost)"
      ],
      "metadata": {
        "id": "GT4N3lIDzKLx"
      }
    }
  ]
}